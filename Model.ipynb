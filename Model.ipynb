{
 "cells": [
  {
   "cell_type": "code",
   "execution_count": null,
   "id": "fed523c6",
   "metadata": {},
   "outputs": [],
   "source": [
    "#check version of tensorflow\n",
    "import random as rn\n",
    "import plotly.graph_objects as go\n",
    "import numpy as np\n",
    "import pandas as pd\n",
    "import os\n",
    "import glob\n",
    "import datetime\n",
    "import matplotlib.pyplot as plt\n",
    "import math, time\n",
    "import itertools\n",
    "import datetime\n",
    "from operator import itemgetter\n",
    "from sklearn.metrics import mean_squared_error\n",
    "from sklearn.preprocessing import MinMaxScaler\n",
    "from math import sqrt\n",
    "import torch\n",
    "import torch.nn as nn\n",
    "from torch.autograd import Variable\n",
    "import bindat"
   ]
  },
  {
   "cell_type": "code",
   "execution_count": null,
   "id": "68c95ed4",
   "metadata": {},
   "outputs": [],
   "source": []
  },
  {
   "cell_type": "code",
   "execution_count": null,
   "id": "190f5ee3",
   "metadata": {},
   "outputs": [],
   "source": []
  },
  {
   "cell_type": "code",
   "execution_count": null,
   "id": "cd6434f5",
   "metadata": {},
   "outputs": [],
   "source": [
    "BTC1d = pd.read_csv(\"F:\\\\Thesis\\\\covid-nift\\\\Dataset\\\\BTC1d.csv\")\n",
    "BTC1h = pd.read_csv(\"F:\\\\Thesis\\\\covid-nift\\\\Dataset\\\\BTC1h.csv\")\n",
    "BTC15m = pd.read_csv(\"F:\\\\Thesis\\\\covid-nift\\\\Dataset\\\\BTC15m.csv\")\n",
    "BTC = pd.read_csv(\"F:\\\\Thesis\\\\covid-nift\\\\Dataset\\\\BTC1m.csv\")\n",
    "BTC = BTC.set_index(BTC['Date'])\n",
    "BTC = BTC.drop(['Date'], axis=1)\n",
    "BTC.index = pd.to_datetime(BTC.index)\n"
   ]
  },
  {
   "cell_type": "code",
   "execution_count": null,
   "id": "e115d46b",
   "metadata": {},
   "outputs": [],
   "source": [
    "\n"
   ]
  },
  {
   "cell_type": "markdown",
   "id": "ef640966",
   "metadata": {},
   "source": [
    "--"
   ]
  },
  {
   "cell_type": "code",
   "execution_count": 128,
   "id": "d3d2940a",
   "metadata": {},
   "outputs": [],
   "source": [
    "def split_sequences(sequences, n_steps_in, n_steps_out):\n",
    "        X, y = list(), list()\n",
    "        for i in range(len(sequences)):\n",
    "            # find the end of this pattern\n",
    "            end_ix = i + n_steps_in\n",
    "            out_end_ix = end_ix + n_steps_out-1\n",
    "            # check if we are beyond the dataset\n",
    "            if out_end_ix > len(sequences):\n",
    "                break\n",
    "            # gather input and output parts of the pattern\n",
    "            seq_x, seq_y = sequences[i:end_ix, :], sequences[end_ix-1:out_end_ix,-1]\n",
    "            X.append(seq_x)\n",
    "            y.append(seq_y)\n",
    "        return np.array(X), np.array(y)"
   ]
  },
  {
   "cell_type": "code",
   "execution_count": 129,
   "id": "0181076d",
   "metadata": {},
   "outputs": [],
   "source": [
    "class split:\n",
    "\n",
    "    def __init__(self, df, break_date,time_step):\n",
    "       \n",
    "        self.df = df\n",
    "        self.break_date = break_date\n",
    "        self.time_step = time_step\n",
    "        \n",
    "        #breaking the data into train and test along time dim\n",
    "        self.test_percent = 0.20\n",
    "        self.no_test_obs =  int(np.round(self.test_percent*len(self.df)))\n",
    "        self.training = self.df[:-self.no_test_obs]\n",
    "        self.testing = self.df[-self.no_test_obs:]\n",
    "\n",
    "        self.validation = self.testing.loc[self.testing.index <= self.break_date]\n",
    "        self.outofsample = self.testing.loc[self.testing.index > self.break_date]\n",
    "        \n",
    "        #size\n",
    "        self.train_size = len(self.training)\n",
    "        self.test_size = len(self.testing)\n",
    "        \n",
    "        #minmax\n",
    "        self.scaler = MinMaxScaler(feature_range=(-1, 1))\n",
    "        self.trainMinmax = self.scaler.fit_transform(self.training.values) #fit and transform training data\n",
    "        self.validationMinmax = self.scaler.transform(self.validation.values)\n",
    "        self.outofsampleMinmax = self.scaler.transform(self.outofsample.values)\n",
    "        \n",
    "        #split_sequence\n",
    "        self.x_seq_train, self.y_seq_train = split_sequences(self.trainMinmax,self.time_step, 1)\n",
    "        self.x_seq_validation, self.y_seq_validation = split_sequences(self.validationMinmax, self.time_step, 1)\n",
    "        self.x_seq_outofsample, self.y_seq_outofsample = split_sequences(self.outofsampleMinmax, self.time_step, 1)\n",
    "              \n",
    "        # make training and test sets in torch\n",
    "        self.x_train = torch.from_numpy(self.x_seq_train).type(torch.Tensor)\n",
    "        self.x_validation = torch.from_numpy(self.x_seq_validation).type(torch.Tensor)\n",
    "        self.x_outofsample = torch.from_numpy(self.x_seq_outofsample).type(torch.Tensor)\n",
    "\n",
    "        self.y_train = torch.from_numpy(self.y_seq_train).type(torch.Tensor)\n",
    "        self.y_validation = torch.from_numpy(self.y_seq_validation).type(torch.Tensor)\n",
    "        self.y_outofsample = torch.from_numpy(self.y_seq_outofsample).type(torch.Tensor)\n",
    "    \n",
    "    def get_train_set(self):\n",
    "        return self.x_train , self.y_train\n",
    "    \n",
    "    def get_validation_set(self):\n",
    "        return self.x_validation , self.y_validation\n",
    "    \n",
    "    def get_outofsample_set(self):\n",
    "        return self.x_outofsample , self.y_outofsample\n",
    "    \n",
    "    def get_test(self):\n",
    "        return self.validation , self.outofsample\n",
    "    \n",
    "    \n",
    "    def print_split(self):\n",
    "        print('x train = ',self.x_train.shape)\n",
    "        print('y train = ',self.y_train.shape)\n",
    "        print('x Validation = ',self.x_validation.shape)\n",
    "        print('y Validation = ',self.y_validation.shape)\n",
    "        print('x outSample = ',self.x_outofsample.shape)\n",
    "        print('y outSample = ',self.y_outofsample.shape)\n",
    "        #print('minmax ', self.trainMinmax)\n",
    "        "
   ]
  },
  {
   "cell_type": "code",
   "execution_count": 130,
   "id": "764d1194",
   "metadata": {},
   "outputs": [],
   "source": [
    "\n",
    "# Here we define our model as a class\n",
    "class LSTM(nn.Module):\n",
    "    def __init__(self, input_dim, hidden_dim,  output_dim, num_layers):\n",
    "        super(LSTM, self).__init__()\n",
    "        # Hidden dimensions\n",
    "        self.hidden_dim = hidden_dim\n",
    "\n",
    "        # Number of hidden layers\n",
    "        self.num_layers = num_layers\n",
    "\n",
    "        # batch_first=True causes input/output tensors to be of shape\n",
    "        self.lstm = nn.LSTM(input_dim, hidden_dim, num_layers, batch_first=True)\n",
    "\n",
    "        # Readout layer\n",
    "        self.fc = nn.Linear(hidden_dim, output_dim)\n",
    "\n",
    "    def forward(self, x):\n",
    "        # Initialize hidden state with zeros\n",
    "        h0 = torch.zeros(self.num_layers, x.size(0), self.hidden_dim).requires_grad_()\n",
    "\n",
    "        # Initialize cell state\n",
    "        c0 = torch.zeros(self.num_layers, x.size(0), self.hidden_dim).requires_grad_()\n",
    "\n",
    "        # We need to detach the initi \n",
    "        out, (hn, cn) = self.lstm(x, (h0.detach(), c0.detach()))\n",
    "\n",
    "       #reshaping the data for Dense layer next\n",
    "        out = self.fc(out[:, -1, :]) \n",
    "        \n",
    "        return out\n"
   ]
  },
  {
   "cell_type": "code",
   "execution_count": 131,
   "id": "a69c361c",
   "metadata": {},
   "outputs": [],
   "source": [
    " def plot_results(actual_y,predicted_y,method,date):\n",
    "        mse = mean_squared_error(actual_y,predicted_y)\n",
    "\n",
    "        plt.figure(figsize=(16,4))\n",
    "        plt.plot(date,actual_y)\n",
    "        plt.plot(date,predicted_y)\n",
    "        plt.legend(['Actual','Predicted'])\n",
    "        plt.title(f'{method} (MSE: {mse})')        \n",
    "        plt.show()"
   ]
  },
  {
   "cell_type": "code",
   "execution_count": 132,
   "id": "dc4deac5",
   "metadata": {
    "scrolled": true
   },
   "outputs": [],
   "source": [
    "class Trainer:\n",
    "\n",
    "    def __init__(self, df, break_date, time_step, num_epochs, input_dim, hidden_dim, num_layers, output_dim ):\n",
    "        \n",
    "        self.df = df \n",
    "        self.num_epochs=num_epochs\n",
    "        self.hist= np.zeros(self.num_epochs)\n",
    "        self.input_dim=input_dim\n",
    "        self.hidden_dim=hidden_dim \n",
    "        self.num_layers=num_layers \n",
    "        self.output_dim=output_dim\n",
    "        self.time_step = time_step\n",
    "        self.break_date = break_date\n",
    "        self.split = split(self.df,self.break_date,self.time_step)\n",
    "        self.scaler = self.split.scaler\n",
    "        self.x_train , self.y_train = self.split.get_train_set()\n",
    "        self.x_validation , self.y_validation = self.split.get_validation_set()\n",
    "        \n",
    "    def train_pred(self):\n",
    "        \n",
    "        self.model = LSTM(1, 32, 1, 2)\n",
    "        self.loss_fn = torch.nn.MSELoss()\n",
    "        self.hist = np.zeros(self.num_epochs)\n",
    "        self.optimiser = torch.optim.Adam(self.model.parameters(), lr=0.01)\n",
    "        \n",
    "        for t in range(self.num_epochs):\n",
    "            \n",
    "            # Forward pass\n",
    "            self.train_prediction = self.model(self.x_train)\n",
    "            \n",
    "            self.loss= self.train_iteration(self.train_prediction, self.y_train)\n",
    "            if t % 10 == 0 and t !=0:\n",
    "                print(\"Epoch \", t, \"MSE: \", self.loss.item())\n",
    "            self.hist[t] = self.loss.item()\n",
    "        plt.plot(self.hist, label=\"Training loss\")\n",
    "        plt.legend()\n",
    "        plt.show()\n",
    "        \n",
    "        # make predictions\n",
    "        self.validation_prediction = self.model(self.x_validation)\n",
    "        \n",
    "        # invert predictions\n",
    "        self.train_prediction = self.scaler.inverse_transform(self.train_prediction.detach().numpy())\n",
    "        self.y_train = self.scaler.inverse_transform(self.y_train.detach().numpy())\n",
    "        self.validation_prediction = self.scaler.inverse_transform(self.validation_prediction.detach().numpy())\n",
    "        self.y_validation = self.scaler.inverse_transform(self.y_validation.detach().numpy())\n",
    "        \n",
    "        plot_results(self.y_train ,self.train_prediction  ,'LSTM train',range(len(self.y_train )))\n",
    "        plot_results(self.y_validation ,self.validation_prediction  ,'LSTM Testing',range(len(self.y_validation)))\n",
    "\n",
    "            \n",
    "    def train_iteration(self, pred, true):\n",
    "       # Zero out gradient, else they will accumulate between epochs\n",
    "        self.optimiser.zero_grad()\n",
    "\n",
    "        self.loss = self.loss_fn(pred, true)\n",
    "           \n",
    "        # Backward pass\n",
    "        self.loss.backward()\n",
    "\n",
    "        # Update parameters\n",
    "        self.optimiser.step()\n",
    "        return self.loss\n",
    "    \n",
    "    def count_error(self, train_prediction,test_prediction,y_train,y_test):\n",
    "        # calculate root mean squared error\n",
    "        self.trainScore = math.sqrt(mean_squared_error(self.y_train[:,0], self.train_prediction[:,0]))\n",
    "        print('Train Score: %.4f RMSE' % (self.trainScore))\n",
    "        self.validationScore = math.sqrt(mean_squared_error(self.y_validation[:,0], self.validation_prediction[:,0]))\n",
    "        print('Test Score: %.4f RMSE' % (self.validationScore))\n",
    "    \n",
    "    def collect_data(self):\n",
    "        return self.train_prediction, self.y_train, self.validation_prediction, self.y_validation\n",
    "        "
   ]
  },
  {
   "cell_type": "code",
   "execution_count": null,
   "id": "f5be7bdf",
   "metadata": {},
   "outputs": [],
   "source": []
  },
  {
   "cell_type": "code",
   "execution_count": null,
   "id": "9205b755",
   "metadata": {},
   "outputs": [],
   "source": [
    "p= split(BTC,break_date =  pd.Timestamp(\"2021-04-24 23:59:00\"),time_step = 1)\n",
    "p.print_split()"
   ]
  },
  {
   "cell_type": "code",
   "execution_count": null,
   "id": "7989c661",
   "metadata": {},
   "outputs": [],
   "source": [
    "#open data\n",
    "df = BTC.filter(items= ['Open'])\n",
    "trainer = Trainer(df,break_date =  pd.Timestamp(\"2021-04-24 23:59:00\"),time_step = 1,num_epochs = 500,input_dim = 1,\n",
    "                  hidden_dim = 32, num_layers = 2, output_dim = 1)\n",
    "trainer.train_pred()\n",
    "train_prediction, y_train, validation_prediction, y_validation  = trainer.collect_data()\n",
    "trainer.count_error(train_prediction, y_train, validation_prediction, y_validation)\n"
   ]
  },
  {
   "cell_type": "code",
   "execution_count": null,
   "id": "5417a3c7",
   "metadata": {},
   "outputs": [],
   "source": [
    "s = split(df, break_date =  pd.Timestamp(\"2021-04-24 23:59:00\"),time_step = 1)\n",
    "x_outofsample, y_outofsample = s.get_outofsample_set()\n",
    "validation, outofsample = s.get_test()\n",
    "\n",
    "model = LSTM(1, 32, 1, 2)\n",
    "outofsample_prediction = model(x_outofsample)\n",
    "\n",
    "scaler = s.scaler\n",
    "outofsample_prediction = scaler.inverse_transform(outofsample_prediction.detach().numpy())\n",
    "y_outofsample = scaler.inverse_transform(y_outofsample.detach().numpy())\n",
    "\n",
    "testScore = math.sqrt(mean_squared_error(y_outofsample[:,0], outofsample_prediction[:,0]))\n",
    "print('Test Score: %.4f RMSE' % (testScore))\n"
   ]
  },
  {
   "cell_type": "code",
   "execution_count": null,
   "id": "349484d4",
   "metadata": {},
   "outputs": [],
   "source": []
  },
  {
   "cell_type": "code",
   "execution_count": null,
   "id": "c012204e",
   "metadata": {},
   "outputs": [],
   "source": []
  },
  {
   "cell_type": "code",
   "execution_count": null,
   "id": "d832ccda",
   "metadata": {},
   "outputs": [],
   "source": [
    "compare = outofsample[(1-1):]\n",
    "compare['Predicted_Open'] = outofsample_prediction\n",
    "compare"
   ]
  },
  {
   "cell_type": "code",
   "execution_count": null,
   "id": "9347641e",
   "metadata": {},
   "outputs": [
    {
     "name": "stdout",
     "output_type": "stream",
     "text": [
      "Epoch  10 MSE:  0.1919272243976593\n",
      "Epoch  20 MSE:  0.11204919964075089\n",
      "Epoch  30 MSE:  0.031905341893434525\n",
      "Epoch  40 MSE:  0.012045836076140404\n",
      "Epoch  50 MSE:  0.0064510321244597435\n",
      "Epoch  60 MSE:  0.002612245036289096\n",
      "Epoch  70 MSE:  0.0006699168588966131\n",
      "Epoch  80 MSE:  0.0007400282192975283\n",
      "Epoch  90 MSE:  0.0006880550063215196\n",
      "Epoch  100 MSE:  0.0005709797260351479\n",
      "Epoch  110 MSE:  0.0005135405226610601\n",
      "Epoch  120 MSE:  0.0004746796330437064\n",
      "Epoch  130 MSE:  0.0004383159102872014\n",
      "Epoch  140 MSE:  0.0004054248856846243\n",
      "Epoch  150 MSE:  0.00037443373003043234\n",
      "Epoch  160 MSE:  0.0003444950270932168\n",
      "Epoch  170 MSE:  0.0003157443134114146\n",
      "Epoch  180 MSE:  0.0002881737018469721\n",
      "Epoch  190 MSE:  0.00026172780781053007\n",
      "Epoch  200 MSE:  0.00023641559528186917\n",
      "Epoch  210 MSE:  0.00021224742522463202\n",
      "Epoch  220 MSE:  0.00018925276526715606\n",
      "Epoch  230 MSE:  0.00016747950576245785\n",
      "Epoch  240 MSE:  0.0001469882990932092\n",
      "Epoch  250 MSE:  0.0001278497657040134\n",
      "Epoch  260 MSE:  0.00011013828043360263\n",
      "Epoch  270 MSE:  9.392583160661161e-05\n",
      "Epoch  280 MSE:  7.927339902380481e-05\n",
      "Epoch  290 MSE:  6.622337969020009e-05\n"
     ]
    }
   ],
   "source": [
    "#Close data\n",
    "df = BTC.filter(items= ['High'])\n",
    "trainer = Trainer(df,break_date =  pd.Timestamp(\"2021-04-24 23:59:00\"),time_step = 1,num_epochs = 500,input_dim = 1,\n",
    "                  hidden_dim = 32, num_layers = 2, output_dim = 1)\n",
    "trainer.train_pred()\n",
    "train_prediction, y_train, validation_prediction, y_validation  = trainer.collect_data()\n",
    "trainer.count_error(train_prediction, y_train, validation_prediction, y_validation)\n"
   ]
  },
  {
   "cell_type": "code",
   "execution_count": null,
   "id": "05c6ea57",
   "metadata": {},
   "outputs": [],
   "source": [
    "s = split(df, break_date =  pd.Timestamp(\"2021-04-24 23:59:00\"),time_step = 1)\n",
    "x_outofsample, y_outofsample = s.get_outofsample_set()\n",
    "\n",
    "model = LSTM(1, 32, 1, 2)\n",
    "outofsample_prediction = model(x_outofsample)\n",
    "\n",
    "scaler = s.scaler\n",
    "outofsample_prediction = scaler.inverse_transform(outofsample_prediction.detach().numpy())\n",
    "y_outofsample = scaler.inverse_transform(y_outofsample.detach().numpy())\n",
    "\n",
    "testScore = math.sqrt(mean_squared_error(y_outofsample[:,0], outofsample_prediction[:,0]))\n",
    "print('Test Score: %.4f RMSE' % (testScore))"
   ]
  },
  {
   "cell_type": "code",
   "execution_count": null,
   "id": "f26756fd",
   "metadata": {},
   "outputs": [],
   "source": [
    "compare['Predicted_High'] = outofsample_prediction"
   ]
  },
  {
   "cell_type": "code",
   "execution_count": null,
   "id": "96b7500f",
   "metadata": {},
   "outputs": [],
   "source": [
    "#close data\n",
    "df = BTC.filter(items= ['Close'])\n",
    "trainer = Trainer(df,break_date =  pd.Timestamp(\"2021-04-24 23:59:00\"),time_step = 1,num_epochs = 500,input_dim = 1,\n",
    "                  hidden_dim = 32, num_layers = 2, output_dim = 1)\n",
    "trainer.train_pred()\n",
    "train_prediction, y_train, validation_prediction, y_validation  = trainer.collect_data()\n",
    "trainer.count_error(train_prediction, y_train, validation_prediction, y_validation)"
   ]
  },
  {
   "cell_type": "code",
   "execution_count": null,
   "id": "8b733b2a",
   "metadata": {},
   "outputs": [],
   "source": [
    "s = split(df, break_date =  pd.Timestamp(\"2021-04-24 23:59:00\"),time_step = 1)\n",
    "x_outofsample, y_outofsample = s.get_outofsample_set()\n",
    "\n",
    "model = LSTM(1, 32, 1, 2)\n",
    "outofsample_prediction = model(x_outofsample)\n",
    "\n",
    "scaler = s.scaler\n",
    "outofsample_prediction = scaler.inverse_transform(outofsample_prediction.detach().numpy())\n",
    "y_outofsample = scaler.inverse_transform(y_outofsample.detach().numpy())\n",
    "\n",
    "testScore = math.sqrt(mean_squared_error(y_outofsample[:,0], outofsample_prediction[:,0]))\n",
    "print('Test Score: %.4f RMSE' % (testScore))"
   ]
  },
  {
   "cell_type": "code",
   "execution_count": null,
   "id": "bf769df9",
   "metadata": {},
   "outputs": [],
   "source": [
    "compare['Predicted_Close'] = outofsample_prediction"
   ]
  },
  {
   "cell_type": "code",
   "execution_count": null,
   "id": "a807014a",
   "metadata": {},
   "outputs": [],
   "source": [
    "#Low data\n",
    "df = BTC.filter(items= ['Low'])\n",
    "trainer = Trainer(df,break_date =  pd.Timestamp(\"2021-04-24 23:59:00\"),time_step = 1,num_epochs = 500,input_dim = 1,\n",
    "                  hidden_dim = 32, num_layers = 2, output_dim = 1)\n",
    "trainer.train_pred()\n",
    "train_prediction, y_train, validation_prediction, y_validation  = trainer.collect_data()\n",
    "trainer.count_error(train_prediction, y_train, validation_prediction, y_validation)"
   ]
  },
  {
   "cell_type": "code",
   "execution_count": null,
   "id": "3db5cb2b",
   "metadata": {},
   "outputs": [],
   "source": [
    "s = split(df, break_date =  pd.Timestamp(\"2021-04-24 23:59:00\"),time_step = 1)\n",
    "x_outofsample, y_outofsample = s.get_outofsample_set()\n",
    "\n",
    "model = LSTM(1, 32, 1, 2)\n",
    "outofsample_prediction = model(x_outofsample)\n",
    "\n",
    "scaler = s.scaler\n",
    "outofsample_prediction = scaler.inverse_transform(outofsample_prediction.detach().numpy())\n",
    "y_outofsample = scaler.inverse_transform(y_outofsample.detach().numpy())\n",
    "\n",
    "testScore = math.sqrt(mean_squared_error(y_outofsample[:,0], outofsample_prediction[:,0]))\n",
    "print('Test Score: %.4f RMSE' % (testScore))"
   ]
  },
  {
   "cell_type": "code",
   "execution_count": null,
   "id": "b92d5379",
   "metadata": {},
   "outputs": [],
   "source": [
    "compare['Predicted_Low'] = outofsample_prediction\n",
    "sub = compare['Open']-compare['Predicted_Open']\n",
    "sub"
   ]
  },
  {
   "cell_type": "code",
   "execution_count": null,
   "id": "6667f086",
   "metadata": {},
   "outputs": [],
   "source": [
    "compare"
   ]
  },
  {
   "cell_type": "code",
   "execution_count": null,
   "id": "208701a6",
   "metadata": {},
   "outputs": [],
   "source": [
    "i=\"1min\"\n",
    "compare = compare.drop([\"Open\"], axis=1)\n",
    "path = 'F:/Thesis/covid-nift/Dataset/Prediction_files/'\n",
    "compare.to_csv (path+i+'.csv') \n",
    "compare"
   ]
  },
  {
   "cell_type": "code",
   "execution_count": null,
   "id": "ac24fabb",
   "metadata": {},
   "outputs": [],
   "source": []
  },
  {
   "cell_type": "code",
   "execution_count": null,
   "id": "9f0f6d6f",
   "metadata": {},
   "outputs": [],
   "source": []
  },
  {
   "cell_type": "code",
   "execution_count": null,
   "id": "0b0f4195",
   "metadata": {},
   "outputs": [],
   "source": []
  },
  {
   "cell_type": "code",
   "execution_count": null,
   "id": "f8e8a65f",
   "metadata": {},
   "outputs": [],
   "source": []
  },
  {
   "cell_type": "code",
   "execution_count": null,
   "id": "c0f6c8ce",
   "metadata": {},
   "outputs": [],
   "source": []
  },
  {
   "cell_type": "code",
   "execution_count": null,
   "id": "3ae6b52b",
   "metadata": {},
   "outputs": [],
   "source": []
  },
  {
   "cell_type": "code",
   "execution_count": null,
   "id": "ad56a786",
   "metadata": {},
   "outputs": [],
   "source": []
  },
  {
   "cell_type": "code",
   "execution_count": null,
   "id": "d735dd04",
   "metadata": {},
   "outputs": [],
   "source": []
  },
  {
   "cell_type": "code",
   "execution_count": null,
   "id": "ce36e4bc",
   "metadata": {},
   "outputs": [],
   "source": []
  },
  {
   "cell_type": "code",
   "execution_count": null,
   "id": "02515f9a",
   "metadata": {},
   "outputs": [],
   "source": []
  },
  {
   "cell_type": "code",
   "execution_count": null,
   "id": "0ea37178",
   "metadata": {},
   "outputs": [],
   "source": []
  },
  {
   "cell_type": "code",
   "execution_count": null,
   "id": "56bbb851",
   "metadata": {},
   "outputs": [],
   "source": []
  },
  {
   "cell_type": "code",
   "execution_count": null,
   "id": "3fc8d710",
   "metadata": {},
   "outputs": [],
   "source": []
  },
  {
   "cell_type": "code",
   "execution_count": null,
   "id": "66604aae",
   "metadata": {},
   "outputs": [],
   "source": []
  },
  {
   "cell_type": "code",
   "execution_count": null,
   "id": "245f8d02",
   "metadata": {},
   "outputs": [],
   "source": []
  },
  {
   "cell_type": "code",
   "execution_count": null,
   "id": "dbd01e03",
   "metadata": {},
   "outputs": [],
   "source": []
  },
  {
   "cell_type": "code",
   "execution_count": null,
   "id": "bca79e8d",
   "metadata": {},
   "outputs": [],
   "source": []
  },
  {
   "cell_type": "code",
   "execution_count": null,
   "id": "efb9a302",
   "metadata": {},
   "outputs": [],
   "source": []
  },
  {
   "cell_type": "code",
   "execution_count": null,
   "id": "ac7fba51",
   "metadata": {},
   "outputs": [],
   "source": []
  },
  {
   "cell_type": "code",
   "execution_count": null,
   "id": "1d7ef942",
   "metadata": {},
   "outputs": [],
   "source": []
  },
  {
   "cell_type": "code",
   "execution_count": null,
   "id": "f2db39da",
   "metadata": {},
   "outputs": [],
   "source": []
  },
  {
   "cell_type": "code",
   "execution_count": null,
   "id": "5bfbda34",
   "metadata": {},
   "outputs": [],
   "source": []
  }
 ],
 "metadata": {
  "kernelspec": {
   "display_name": "Python 3",
   "language": "python",
   "name": "python3"
  },
  "language_info": {
   "codemirror_mode": {
    "name": "ipython",
    "version": 3
   },
   "file_extension": ".py",
   "mimetype": "text/x-python",
   "name": "python",
   "nbconvert_exporter": "python",
   "pygments_lexer": "ipython3",
   "version": "3.8.8"
  }
 },
 "nbformat": 4,
 "nbformat_minor": 5
}
