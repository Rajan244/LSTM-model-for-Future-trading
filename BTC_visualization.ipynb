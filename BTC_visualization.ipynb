{
 "cells": [
  {
   "cell_type": "code",
   "execution_count": 32,
   "metadata": {},
   "outputs": [],
   "source": [
    "import pandas as pd\n",
    "import numpy as np\n",
    "\n",
    "import matplotlib.pyplot as plt\n",
    "import plotly.graph_objects as go\n",
    "import seaborn as sns\n",
    "sns.set_style('whitegrid')\n",
    "plt.style.use(\"fivethirtyeight\")"
   ]
  },
  {
   "cell_type": "code",
   "execution_count": null,
   "metadata": {},
   "outputs": [],
   "source": [
    "BTC1d = pd.read_csv(\"F:\\\\Thesis\\\\covid-nift\\\\Dataset\\\\BTC1d.csv\")\n",
    "BTC1d = BTC1d.set_index(BTC1d['Date'])\n",
    "BTC1d = BTC1d.drop(['Date'], axis=1)\n",
    "BTC1d"
   ]
  },
  {
   "cell_type": "code",
   "execution_count": null,
   "metadata": {},
   "outputs": [],
   "source": [
    "fig = go.Figure(data=[go.Candlestick(x=BTC1d.index,\n",
    "                open=BTC1d['Open'], high=BTC1d['High'],\n",
    "                low=BTC1d['Low'], close=BTC1d['Close'])\n",
    "                     ])\n",
    "\n",
    "fig.update_layout(xaxis_rangeslider_visible=False)\n",
    "fig.show()"
   ]
  },
  {
   "cell_type": "code",
   "execution_count": null,
   "metadata": {},
   "outputs": [],
   "source": [
    "ohcl = ['Open','High','Close','Low']\n",
    "\n",
    "# Then we'll plot the daily return percentage\n",
    "fig, axes = plt.subplots(nrows=2, ncols=2)\n",
    "fig.set_figheight(8)\n",
    "fig.set_figwidth(15)\n",
    "\n",
    "for i, col in enumerate (BTC1d.columns.intersection(ohcl),1):\n",
    "    plt.subplot(2, 2, i)\n",
    "    BTC1d[col].plot()\n",
    "    plt.ylabel('Price in USD')\n",
    "    plt.xlabel(None)\n",
    "    plt.title(f\"{ohcl[i - 1]}\")\n",
    "    \n",
    "plt.tight_layout()"
   ]
  },
  {
   "cell_type": "code",
   "execution_count": null,
   "metadata": {},
   "outputs": [],
   "source": [
    "# Then we'll plot the daily return percentage\n",
    "fig, axes = plt.subplots(nrows=2, ncols=2)\n",
    "fig.set_figheight(8)\n",
    "fig.set_figwidth(15)\n",
    "for i, col in enumerate (ohcl,1):\n",
    "\n",
    "    plt.subplot(2, 2, i)\n",
    "    pct = BTC1d[col].pct_change()\n",
    "    pct.plot(legend=True, linestyle='--', marker='o')\n",
    "    plt.title(f\"percentage change of {col} price \")\n",
    "plt.tight_layout()"
   ]
  },
  {
   "cell_type": "code",
   "execution_count": null,
   "metadata": {},
   "outputs": [],
   "source": [
    "# Then we'll plot the daily return percentage\n",
    "fig, axes = plt.subplots(nrows=2, ncols=2)\n",
    "fig.set_figheight(8)\n",
    "fig.set_figwidth(15)\n",
    "\n",
    "for i, col in enumerate (ohcl,1):\n",
    "    plt.subplot(2, 2, i)\n",
    "    sns.distplot(BTC1d[col].dropna(), bins=100, color='purple')\n",
    "    plt.ylabel('Daily Return')\n",
    "    plt.title(f\"{col}\")\n",
    "plt.tight_layout()"
   ]
  }
 ],
 "metadata": {
  "kernelspec": {
   "display_name": "Python 3",
   "language": "python",
   "name": "python3"
  },
  "language_info": {
   "codemirror_mode": {
    "name": "ipython",
    "version": 3
   },
   "file_extension": ".py",
   "mimetype": "text/x-python",
   "name": "python",
   "nbconvert_exporter": "python",
   "pygments_lexer": "ipython3",
   "version": "3.8.8"
  }
 },
 "nbformat": 4,
 "nbformat_minor": 2
}
