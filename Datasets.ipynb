{
 "cells": [
  {
   "cell_type": "code",
   "execution_count": null,
   "id": "01430eec",
   "metadata": {},
   "outputs": [],
   "source": [
    "import pandas as pd\n",
    "import bindat\n",
    "\n",
    "BTC1d = bindat.dataset(sym='BTCUSDT', intrvl='1d', sr='2020-04-24', er='2021-04-25')\n",
    "BTC1h = bindat.dataset(sym='BTCUSDT', intrvl='1h', sr='2020-04-24', er='2021-04-25')\n",
    "BTC15m = bindat.dataset(sym='BTCUSDT', intrvl='15m', sr='2020-04-24', er='2021-04-25')\n",
    "BTC1m = bindat.dataset(sym='BTCUSDT', intrvl='1m', sr='2020-04-24', er='2021-04-25')\n",
    "\n",
    "BTC1d.index = pd.to_datetime(BTC1d.index)\n",
    "BTC1h.index = pd.to_datetime(BTC1h.index)\n",
    "BTC15m.index = pd.to_datetime(BTC15m.index)\n",
    "BTC1m.index = pd.to_datetime(BTC1m.index)\n",
    "\n",
    "\n",
    "BTC1d.to_csv ('F:\\Thesis\\covid-nift\\Dataset\\BTC1d.csv')\n",
    "BTC1h.to_csv ('F:\\Thesis\\covid-nift\\Dataset\\BTC1h.csv')\n",
    "BTC15m.to_csv ('F:\\Thesis\\covid-nift\\Dataset\\BTC15m.csv')\n",
    "BTC1m.to_csv ('F:\\Thesis\\covid-nift\\Dataset\\BTC1m.csv')\n",
    "\n",
    "BTC1h"
   ]
  }
 ],
 "metadata": {
  "kernelspec": {
   "display_name": "Python 3",
   "language": "python",
   "name": "python3"
  },
  "language_info": {
   "codemirror_mode": {
    "name": "ipython",
    "version": 3
   },
   "file_extension": ".py",
   "mimetype": "text/x-python",
   "name": "python",
   "nbconvert_exporter": "python",
   "pygments_lexer": "ipython3",
   "version": "3.8.8"
  }
 },
 "nbformat": 4,
 "nbformat_minor": 5
}
